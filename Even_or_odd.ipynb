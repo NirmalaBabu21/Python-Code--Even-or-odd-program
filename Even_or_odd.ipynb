{
  "nbformat": 4,
  "nbformat_minor": 0,
  "metadata": {
    "colab": {
      "name": "Even or odd.ipynb",
      "provenance": []
    },
    "kernelspec": {
      "name": "python3",
      "display_name": "Python 3"
    },
    "language_info": {
      "name": "python"
    }
  },
  "cells": [
    {
      "cell_type": "code",
      "execution_count": 8,
      "metadata": {
        "colab": {
          "base_uri": "https://localhost:8080/"
        },
        "id": "RZW6kCX6Rwz_",
        "outputId": "008cca1b-b477-4b44-ec7a-d4aed0eba568"
      },
      "outputs": [
        {
          "output_type": "stream",
          "name": "stdout",
          "text": [
            "enter a number:456\n",
            "Even Number\n"
          ]
        }
      ],
      "source": [
        "a = int(input(\"enter a number:\"))\n",
        "if((a%2)==0):\n",
        "  print(\"Even Number\")\n",
        "else:\n",
        "  print(\"Old Number\")"
      ]
    }
  ]
}